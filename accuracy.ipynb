{
 "cells": [
  {
   "cell_type": "code",
   "execution_count": 106,
   "metadata": {},
   "outputs": [],
   "source": [
    "truepositive=81.5"
   ]
  },
  {
   "cell_type": "code",
   "execution_count": 107,
   "metadata": {},
   "outputs": [],
   "source": [
    "falsepositive=16.6"
   ]
  },
  {
   "cell_type": "code",
   "execution_count": 108,
   "metadata": {},
   "outputs": [],
   "source": [
    "truenegative=90.7"
   ]
  },
  {
   "cell_type": "code",
   "execution_count": 109,
   "metadata": {},
   "outputs": [],
   "source": [
    "falsenegative=6.5"
   ]
  },
  {
   "cell_type": "code",
   "execution_count": 2,
   "metadata": {},
   "outputs": [
    {
     "name": "stderr",
     "output_type": "stream",
     "text": [
      "Using TensorFlow backend.\n"
     ]
    }
   ],
   "source": [
    "import cv2\n",
    "import numpy as np\n",
    "from skimage.transform import resize\n",
    "import matplotlib.pyplot as plt\n",
    "from keras.preprocessing.image import ImageDataGenerator, array_to_img, img_to_array, load_img\n",
    "from sklearn.feature_extraction import image\n",
    "from skimage.util.shape import view_as_blocks\n",
    "from skimage.util.shape import view_as_windows"
   ]
  },
  {
   "cell_type": "code",
   "execution_count": 17,
   "metadata": {},
   "outputs": [
    {
     "ename": "IsADirectoryError",
     "evalue": "[Errno 21] Is a directory: '/home/ipsa/ph2/accuracy/'",
     "output_type": "error",
     "traceback": [
      "\u001b[0;31m---------------------------------------------------------------------------\u001b[0m",
      "\u001b[0;31mIsADirectoryError\u001b[0m                         Traceback (most recent call last)",
      "\u001b[0;32m<ipython-input-17-b749f2d8d68b>\u001b[0m in \u001b[0;36m<module>\u001b[0;34m\u001b[0m\n\u001b[1;32m      1\u001b[0m \u001b[0mpath\u001b[0m\u001b[0;34m=\u001b[0m\u001b[0;34m'/home/ipsa/ph2/accuracy/'\u001b[0m\u001b[0;34m\u001b[0m\u001b[0m\n\u001b[0;32m----> 2\u001b[0;31m \u001b[0mimg\u001b[0m\u001b[0;34m=\u001b[0m\u001b[0mload_img\u001b[0m\u001b[0;34m(\u001b[0m\u001b[0mpath\u001b[0m\u001b[0;34m)\u001b[0m\u001b[0;34m\u001b[0m\u001b[0m\n\u001b[0m\u001b[1;32m      3\u001b[0m \u001b[0miimg\u001b[0m\u001b[0;34m=\u001b[0m\u001b[0mimg_to_array\u001b[0m\u001b[0;34m(\u001b[0m\u001b[0mimg\u001b[0m\u001b[0;34m)\u001b[0m\u001b[0;34m\u001b[0m\u001b[0m\n\u001b[1;32m      4\u001b[0m \u001b[0mplt\u001b[0m\u001b[0;34m.\u001b[0m\u001b[0mimshow\u001b[0m\u001b[0;34m(\u001b[0m\u001b[0miimg\u001b[0m\u001b[0;34m/\u001b[0m\u001b[0;36m255.\u001b[0m\u001b[0;34m)\u001b[0m\u001b[0;34m\u001b[0m\u001b[0m\n",
      "\u001b[0;32m~/m1/lib/python3.5/site-packages/keras_preprocessing/image.py\u001b[0m in \u001b[0;36mload_img\u001b[0;34m(path, grayscale, color_mode, target_size, interpolation)\u001b[0m\n\u001b[1;32m    496\u001b[0m         raise ImportError('Could not import PIL.Image. '\n\u001b[1;32m    497\u001b[0m                           'The use of `array_to_img` requires PIL.')\n\u001b[0;32m--> 498\u001b[0;31m     \u001b[0mimg\u001b[0m \u001b[0;34m=\u001b[0m \u001b[0mpil_image\u001b[0m\u001b[0;34m.\u001b[0m\u001b[0mopen\u001b[0m\u001b[0;34m(\u001b[0m\u001b[0mpath\u001b[0m\u001b[0;34m)\u001b[0m\u001b[0;34m\u001b[0m\u001b[0m\n\u001b[0m\u001b[1;32m    499\u001b[0m     \u001b[0;32mif\u001b[0m \u001b[0mcolor_mode\u001b[0m \u001b[0;34m==\u001b[0m \u001b[0;34m'grayscale'\u001b[0m\u001b[0;34m:\u001b[0m\u001b[0;34m\u001b[0m\u001b[0m\n\u001b[1;32m    500\u001b[0m         \u001b[0;32mif\u001b[0m \u001b[0mimg\u001b[0m\u001b[0;34m.\u001b[0m\u001b[0mmode\u001b[0m \u001b[0;34m!=\u001b[0m \u001b[0;34m'L'\u001b[0m\u001b[0;34m:\u001b[0m\u001b[0;34m\u001b[0m\u001b[0m\n",
      "\u001b[0;32m~/m1/lib/python3.5/site-packages/PIL/Image.py\u001b[0m in \u001b[0;36mopen\u001b[0;34m(fp, mode)\u001b[0m\n\u001b[1;32m   2632\u001b[0m \u001b[0;34m\u001b[0m\u001b[0m\n\u001b[1;32m   2633\u001b[0m     \u001b[0;32mif\u001b[0m \u001b[0mfilename\u001b[0m\u001b[0;34m:\u001b[0m\u001b[0;34m\u001b[0m\u001b[0m\n\u001b[0;32m-> 2634\u001b[0;31m         \u001b[0mfp\u001b[0m \u001b[0;34m=\u001b[0m \u001b[0mbuiltins\u001b[0m\u001b[0;34m.\u001b[0m\u001b[0mopen\u001b[0m\u001b[0;34m(\u001b[0m\u001b[0mfilename\u001b[0m\u001b[0;34m,\u001b[0m \u001b[0;34m\"rb\"\u001b[0m\u001b[0;34m)\u001b[0m\u001b[0;34m\u001b[0m\u001b[0m\n\u001b[0m\u001b[1;32m   2635\u001b[0m         \u001b[0mexclusive_fp\u001b[0m \u001b[0;34m=\u001b[0m \u001b[0;32mTrue\u001b[0m\u001b[0;34m\u001b[0m\u001b[0m\n\u001b[1;32m   2636\u001b[0m \u001b[0;34m\u001b[0m\u001b[0m\n",
      "\u001b[0;31mIsADirectoryError\u001b[0m: [Errno 21] Is a directory: '/home/ipsa/ph2/accuracy/'"
     ]
    }
   ],
   "source": [
    "path='/home/ipsa/ph2/accuracy/'\n",
    "img=load_img(path)\n",
    "iimg=img_to_array(img)\n",
    "plt.imshow(iimg/255.)"
   ]
  },
  {
   "cell_type": "code",
   "execution_count": 24,
   "metadata": {},
   "outputs": [],
   "source": [
    "from PIL import Image\n",
    "for n in range(1,61):\n",
    "    img = Image.open(path+str(n)+'.png')\n",
    "    area = (616,25,857,267)\n",
    "    cropped_img = img.crop(area)\n",
    "    #cropped_img.save('/home/accuracy/gt/'+str(n)+'.png')\n",
    "    cropped_img.save(str(n)+'.png')"
   ]
  },
  {
   "cell_type": "code",
   "execution_count": 31,
   "metadata": {},
   "outputs": [],
   "source": [
    "pathp='/home/ipsa/accuracy/predicted/'\n",
    "path='/home/ipsa/accuracy/gt/'"
   ]
  },
  {
   "cell_type": "code",
   "execution_count": 63,
   "metadata": {},
   "outputs": [
    {
     "name": "stdout",
     "output_type": "stream",
     "text": [
      "[1398, 489, 1683, 709, 3940, 3954, 9623, 1619, 1270, 548, 1732, 607, 775, 386, 1110, 470, 577, 2099, 1522, 11562, 3594, 345, 902, 805, 583, 4155, 15683, 3714, 746, 1403, 14664, 5587, 559, 1035, 586, 918, 1123, 363, 693, 935, 774, 360, 718, 845, 1231, 1106, 1544, 1927, 6116, 1810, 678, 928, 251, 2693, 1077, 606, 3246, 2923, 467, 899]\n"
     ]
    }
   ],
   "source": [
    "count=[]\n",
    "yellow=(253,231,36)\n",
    "purple=(68,1,84)\n",
    "for n in range(1,61):\n",
    "    gt = Image.open(path+str(n)+'.png')\n",
    "    pr = Image.open(pathp+str(n)+'.png')\n",
    "    rgb_gt = gt.convert('RGB')\n",
    "    rgb_pr = pr.convert('RGB')\n",
    "    cc=0\n",
    "    for m in range(0,241):\n",
    "        for k in range(0,241):\n",
    "            kgt=r, g, b = rgb_gt.getpixel((m, k))\n",
    "            kpr=r, g, b = rgb_pr.getpixel((m, k))\n",
    "            if(kgt==yellow):\n",
    "                if(kpr!=yellow):\n",
    "                    cc=cc+1\n",
    "    count.append(cc)\n",
    "            \n",
    "\n",
    "print(count)"
   ]
  },
  {
   "cell_type": "code",
   "execution_count": 66,
   "metadata": {},
   "outputs": [
    {
     "data": {
      "text/plain": [
       "[1398,\n",
       " 489,\n",
       " 1683,\n",
       " 709,\n",
       " 3940,\n",
       " 3954,\n",
       " 9623,\n",
       " 1619,\n",
       " 1270,\n",
       " 548,\n",
       " 1732,\n",
       " 607,\n",
       " 775,\n",
       " 386,\n",
       " 1110,\n",
       " 470,\n",
       " 577,\n",
       " 2099,\n",
       " 1522,\n",
       " 11562,\n",
       " 3594,\n",
       " 345,\n",
       " 902,\n",
       " 805,\n",
       " 583,\n",
       " 4155,\n",
       " 15683,\n",
       " 3714,\n",
       " 746,\n",
       " 1403,\n",
       " 14664,\n",
       " 5587,\n",
       " 559,\n",
       " 1035,\n",
       " 586,\n",
       " 918,\n",
       " 1123,\n",
       " 363,\n",
       " 693,\n",
       " 935,\n",
       " 774,\n",
       " 360,\n",
       " 718,\n",
       " 845,\n",
       " 1231,\n",
       " 1106,\n",
       " 1544,\n",
       " 1927,\n",
       " 6116,\n",
       " 1810,\n",
       " 678,\n",
       " 928,\n",
       " 251,\n",
       " 2693,\n",
       " 1077,\n",
       " 606,\n",
       " 3246,\n",
       " 2923,\n",
       " 467,\n",
       " 899]"
      ]
     },
     "execution_count": 66,
     "metadata": {},
     "output_type": "execute_result"
    }
   ],
   "source": [
    "B=count\n",
    "B"
   ]
  },
  {
   "cell_type": "code",
   "execution_count": 69,
   "metadata": {},
   "outputs": [],
   "source": [
    "A=yellow_count"
   ]
  },
  {
   "cell_type": "code",
   "execution_count": 70,
   "metadata": {},
   "outputs": [],
   "source": [
    "C = [a - b for a, b in zip(A, B)]"
   ]
  },
  {
   "cell_type": "code",
   "execution_count": 71,
   "metadata": {
    "scrolled": true
   },
   "outputs": [],
   "source": [
    "truepositive=C"
   ]
  },
  {
   "cell_type": "code",
   "execution_count": 73,
   "metadata": {},
   "outputs": [
    {
     "data": {
      "text/plain": [
       "60"
      ]
     },
     "execution_count": 73,
     "metadata": {},
     "output_type": "execute_result"
    }
   ],
   "source": [
    "len(A)"
   ]
  },
  {
   "cell_type": "code",
   "execution_count": 75,
   "metadata": {},
   "outputs": [],
   "source": [
    "D=[]\n",
    "for n in range(0,60):\n",
    "    j=C[n]/A[n]\n",
    "    D.append(j)"
   ]
  },
  {
   "cell_type": "code",
   "execution_count": 78,
   "metadata": {},
   "outputs": [
    {
     "data": {
      "text/plain": [
       "0.8145294698686671"
      ]
     },
     "execution_count": 78,
     "metadata": {},
     "output_type": "execute_result"
    }
   ],
   "source": [
    "jj=sum(D)/len(D)\n",
    "jj"
   ]
  },
  {
   "cell_type": "code",
   "execution_count": 49,
   "metadata": {},
   "outputs": [],
   "source": [
    "kg=(r, g, b)\n",
    "kp=(68,1,84)"
   ]
  },
  {
   "cell_type": "code",
   "execution_count": 50,
   "metadata": {},
   "outputs": [
    {
     "data": {
      "text/plain": [
       "tuple"
      ]
     },
     "execution_count": 50,
     "metadata": {},
     "output_type": "execute_result"
    }
   ],
   "source": [
    "type(kk)"
   ]
  },
  {
   "cell_type": "code",
   "execution_count": 56,
   "metadata": {},
   "outputs": [
    {
     "data": {
      "text/plain": [
       "False"
      ]
     },
     "execution_count": 56,
     "metadata": {},
     "output_type": "execute_result"
    }
   ],
   "source": [
    "kk!=kp"
   ]
  },
  {
   "cell_type": "code",
   "execution_count": 79,
   "metadata": {},
   "outputs": [],
   "source": [
    "falsepositive=0"
   ]
  },
  {
   "cell_type": "code",
   "execution_count": 84,
   "metadata": {},
   "outputs": [
    {
     "name": "stdout",
     "output_type": "stream",
     "text": [
      "[1589, 1098, 1357, 16630, 2598, 3846, 1791, 2318, 3305, 2739, 3057, 11408, 3160, 964, 206, 2553, 1250, 575, 571, 1132, 1534, 1296, 5472, 2873, 318, 70, 179, 787, 4712, 3496, 899, 1145, 787, 800, 3129, 4298, 1983, 2504, 786, 1780, 8360, 3877, 3694, 9866, 16718, 2484, 2786, 1994, 399, 1274, 494, 1003, 455, 878, 473, 12088, 1571, 3774, 1428, 709]\n"
     ]
    }
   ],
   "source": [
    "count=[]\n",
    "yellow=(253,231,36)\n",
    "purple=(68,1,84)\n",
    "for n in range(1,61):\n",
    "    gt = Image.open(path+str(n)+'.png')\n",
    "    pr = Image.open(pathp+str(n)+'.png')\n",
    "    rgb_gt = gt.convert('RGB')\n",
    "    rgb_pr = pr.convert('RGB')\n",
    "    cc=0\n",
    "    for m in range(0,241):\n",
    "        for k in range(0,241):\n",
    "            kgt=r, g, b = rgb_gt.getpixel((m, k))\n",
    "            kpr=r, g, b = rgb_pr.getpixel((m, k))\n",
    "            if(kpr==yellow):\n",
    "                if(kgt!=yellow):\n",
    "                    cc=cc+1\n",
    "    count.append(cc)\n",
    "            \n",
    "\n",
    "print(count)"
   ]
  },
  {
   "cell_type": "code",
   "execution_count": 82,
   "metadata": {},
   "outputs": [],
   "source": [
    "yello_count_in_pred=count"
   ]
  },
  {
   "cell_type": "code",
   "execution_count": 85,
   "metadata": {},
   "outputs": [],
   "source": [
    "not_yellow_in_gt=count"
   ]
  },
  {
   "cell_type": "code",
   "execution_count": 87,
   "metadata": {},
   "outputs": [],
   "source": [
    "N=[]\n",
    "for n in range(0,60):\n",
    "    j=not_yellow_in_gt[n]/yello_count_in_pred[n]\n",
    "    N.append(j)"
   ]
  },
  {
   "cell_type": "code",
   "execution_count": 88,
   "metadata": {},
   "outputs": [
    {
     "data": {
      "text/plain": [
       "0.16670378814102668"
      ]
     },
     "execution_count": 88,
     "metadata": {},
     "output_type": "execute_result"
    }
   ],
   "source": [
    "jj=sum(N)/len(N)\n",
    "jj"
   ]
  },
  {
   "cell_type": "code",
   "execution_count": 91,
   "metadata": {},
   "outputs": [],
   "source": [
    "truenegative=0"
   ]
  },
  {
   "cell_type": "code",
   "execution_count": 94,
   "metadata": {},
   "outputs": [
    {
     "name": "stdout",
     "output_type": "stream",
     "text": [
      "[17240, 47365, 42662, 28245, 3622, 13348, 9911, 19460, 28452, 42639, 13954, 35324, 38170, 49147, 48306, 45447, 44663, 36977, 42216, 23329, 25735, 47927, 34465, 38097, 49419, 51326, 46775, 27139, 37006, 24489, 19955, 26020, 45878, 42498, 42022, 35876, 34973, 46092, 45999, 35000, 33027, 46205, 40026, 31802, 12003, 29993, 25169, 32436, 39987, 28407, 45468, 39405, 51779, 47430, 43269, 32573, 26457, 17254, 46764, 45830]\n"
     ]
    }
   ],
   "source": [
    "count=[]\n",
    "yellow=(253,231,36)\n",
    "purple=(68,1,84)\n",
    "for n in range(1,61):\n",
    "    gt = Image.open(path+str(n)+'.png')\n",
    "    pr = Image.open(pathp+str(n)+'.png')\n",
    "    rgb_gt = gt.convert('RGB')\n",
    "    rgb_pr = pr.convert('RGB')\n",
    "    cc=0\n",
    "    for m in range(0,241):\n",
    "        for k in range(0,241):\n",
    "            kgt=r, g, b = rgb_gt.getpixel((m, k))\n",
    "            kpr=r, g, b = rgb_pr.getpixel((m, k))\n",
    "            if(kpr==purple):\n",
    "                cc=cc+1\n",
    "    count.append(cc)\n",
    "            \n",
    "\n",
    "print(count)"
   ]
  },
  {
   "cell_type": "code",
   "execution_count": 93,
   "metadata": {},
   "outputs": [],
   "source": [
    "tn=[16590, 46107, 40455, 27579, 1314, 10538, 1631, 18862, 27686, 41489, 13367, 34397, 37209, 47865, 46309, 44276, 43456, 34685, 40257, 12589, 22765, 46709, 33599, 37082, 47829, 46120, 30684, 23801, 36094, 23821, 6214, 20921, 44651, 40954, 40946, 34940, 33915, 44932, 44668, 34078, 32209, 45039, 39013, 30977, 11768, 29148, 24259, 30729, 33540, 26869, 44108, 38229, 50427, 43939, 41617, 31789, 23854, 15203, 45561, 44211]"
   ]
  },
  {
   "cell_type": "code",
   "execution_count": 95,
   "metadata": {},
   "outputs": [],
   "source": [
    "total=[17240, 47365, 42662, 28245, 3622, 13348, 9911, 19460, 28452, 42639, 13954, 35324, 38170, 49147, 48306, 45447, 44663, 36977, 42216, 23329, 25735, 47927, 34465, 38097, 49419, 51326, 46775, 27139, 37006, 24489, 19955, 26020, 45878, 42498, 42022, 35876, 34973, 46092, 45999, 35000, 33027, 46205, 40026, 31802, 12003, 29993, 25169, 32436, 39987, 28407, 45468, 39405, 51779, 47430, 43269, 32573, 26457, 17254, 46764, 45830]"
   ]
  },
  {
   "cell_type": "code",
   "execution_count": 96,
   "metadata": {},
   "outputs": [],
   "source": [
    "N=[]\n",
    "for n in range(0,60):\n",
    "    j=tn[n]/total[n]\n",
    "    N.append(j)"
   ]
  },
  {
   "cell_type": "code",
   "execution_count": 97,
   "metadata": {
    "scrolled": true
   },
   "outputs": [
    {
     "data": {
      "text/plain": [
       "0.906697213119555"
      ]
     },
     "execution_count": 97,
     "metadata": {},
     "output_type": "execute_result"
    }
   ],
   "source": [
    "jj=sum(N)/len(N)\n",
    "jj"
   ]
  },
  {
   "cell_type": "code",
   "execution_count": 98,
   "metadata": {},
   "outputs": [],
   "source": [
    "falsenegative=0"
   ]
  },
  {
   "cell_type": "code",
   "execution_count": 99,
   "metadata": {},
   "outputs": [
    {
     "name": "stdout",
     "output_type": "stream",
     "text": [
      "[37, 44, 896, 0, 2247, 2393, 7955, 115, 0, 2, 148, 0, 0, 3, 588, 0, 12, 1110, 709, 9857, 2126, 0, 0, 5, 228, 3670, 14508, 2337, 0, 50, 12945, 4104, 27, 343, 0, 1, 149, 0, 146, 12, 0, 0, 0, 0, 0, 15, 195, 749, 5043, 561, 77, 80, 7, 2123, 392, 0, 1726, 1542, 0, 323]\n"
     ]
    }
   ],
   "source": [
    "count=[]\n",
    "yellow=(253,231,36)\n",
    "purple=(68,1,84)\n",
    "for n in range(1,61):\n",
    "    gt = Image.open(path+str(n)+'.png')\n",
    "    pr = Image.open(pathp+str(n)+'.png')\n",
    "    rgb_gt = gt.convert('RGB')\n",
    "    rgb_pr = pr.convert('RGB')\n",
    "    cc=0\n",
    "    for m in range(0,241):\n",
    "        for k in range(0,241):\n",
    "            kgt=r, g, b = rgb_gt.getpixel((m, k))\n",
    "            kpr=r, g, b = rgb_pr.getpixel((m, k))\n",
    "            if(kpr==purple):\n",
    "                if(kgt==yellow):\n",
    "                    cc=cc+1\n",
    "    count.append(cc)\n",
    "            \n",
    "\n",
    "print(count)"
   ]
  },
  {
   "cell_type": "code",
   "execution_count": 100,
   "metadata": {},
   "outputs": [],
   "source": [
    "fn=[37, 44, 896, 0, 2247, 2393, 7955, 115, 0, 2, 148, 0, 0, 3, 588, 0, 12, 1110, 709, 9857, 2126, 0, 0, 5, 228, 3670, 14508, 2337, 0, 50, 12945, 4104, 27, 343, 0, 1, 149, 0, 146, 12, 0, 0, 0, 0, 0, 15, 195, 749, 5043, 561, 77, 80, 7, 2123, 392, 0, 1726, 1542, 0, 323]"
   ]
  },
  {
   "cell_type": "code",
   "execution_count": 101,
   "metadata": {},
   "outputs": [],
   "source": [
    "N=[]\n",
    "for n in range(0,60):\n",
    "    j=fn[n]/total[n]\n",
    "    N.append(j)"
   ]
  },
  {
   "cell_type": "code",
   "execution_count": 102,
   "metadata": {},
   "outputs": [
    {
     "data": {
      "text/plain": [
       "0.06502319455186804"
      ]
     },
     "execution_count": 102,
     "metadata": {},
     "output_type": "execute_result"
    }
   ],
   "source": [
    "jj=sum(N)/len(N)\n",
    "jj"
   ]
  },
  {
   "cell_type": "code",
   "execution_count": null,
   "metadata": {},
   "outputs": [],
   "source": []
  }
 ],
 "metadata": {
  "kernelspec": {
   "display_name": "Python 3",
   "language": "python",
   "name": "python3"
  },
  "language_info": {
   "codemirror_mode": {
    "name": "ipython",
    "version": 3
   },
   "file_extension": ".py",
   "mimetype": "text/x-python",
   "name": "python",
   "nbconvert_exporter": "python",
   "pygments_lexer": "ipython3",
   "version": "3.5.2"
  }
 },
 "nbformat": 4,
 "nbformat_minor": 2
}
